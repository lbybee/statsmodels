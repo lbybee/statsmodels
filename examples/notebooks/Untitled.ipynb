{
 "cells": [
  {
   "cell_type": "markdown",
   "metadata": {},
   "source": [
    "This notebook goes through an example showing how to use distributed_estimation with PHReg, first we generate the data."
   ]
  },
  {
   "cell_type": "code",
   "execution_count": null,
   "metadata": {
    "collapsed": false
   },
   "outputs": [],
   "source": [
    "import numpy as np\n",
    "\n",
    "\"\"\"generate simulated data, taken from statsmodels PHReg tests\"\"\"\n",
    "\n",
    "n = 500\n",
    "p = 25\n",
    "\n",
    "exog = np.random.normal(size=(5*n,p))\n",
    "coef = np.random.normal(size=p) * np.random.randint(2, size=p)\n",
    "lpred = np.dot(exog, coef)\n",
    "expected_survival_time = np.exp(-lpred)\n",
    "\n",
    "# Survival times are exponential\n",
    "survival_time = -np.log(np.random.uniform(size=5*n))\n",
    "survival_time *= expected_survival_time\n",
    "\n",
    "# Set this to get a reasonable amount of censoring\n",
    "expected_censoring_time = np.mean(expected_survival_time)\n",
    "\n",
    "# Theses are the observation times.\n",
    "censoring_time = -np.log(np.random.uniform(size=5*n))\n",
    "censoring_time *= expected_censoring_time\n",
    "\n",
    "# Entry times\n",
    "entry_time = -np.log(np.random.uniform(size=5*n))\n",
    "entry_time *= 0.5*expected_censoring_time\n",
    "\n",
    "# 1=failure (death), 0=no failure (no death)\n",
    "status = 1*(survival_time <= censoring_time)\n",
    "\n",
    "# The censoring time of the failure time, whichever comes first\n",
    "time = np.where(status==1, survival_time, censoring_time)\n",
    "\n",
    "# Round time so that we have ties\n",
    "time = np.around(time, decimals=1)\n",
    "\n",
    "# Only take cases where the entry time is before the failure or\n",
    "# censoring time.  Take exactly n such cases.\n",
    "ii = np.flatnonzero(entry_time < time)\n",
    "ii = ii[np.random.permutation(len(ii))[0:n]]\n",
    "status = status[ii]\n",
    "time = time[ii]\n",
    "exog = exog[ii,:]\n",
    "entry_time = entry_time[ii]"
   ]
  },
  {
   "cell_type": "markdown",
   "metadata": {},
   "source": [
    "Now we create the data generators.  We also need a generator to produce the init_kwds (status) for each partition."
   ]
  },
  {
   "cell_type": "code",
   "execution_count": null,
   "metadata": {
    "collapsed": true
   },
   "outputs": [],
   "source": [
    "def _exog_gen(exog, partitions):\n",
    "    \"\"\"partitions exog data\"\"\"\n",
    "\n",
    "    n_exog = exog.shape[0]\n",
    "    n_part = np.ceil(n_exog / partitions)\n",
    "\n",
    "    ii = 0\n",
    "    while ii < n_exog:\n",
    "        jj = int(min(ii + n_part, n_exog))\n",
    "        yield exog[ii:jj, :]\n",
    "        ii += int(n_part)\n",
    "\n",
    "def _endog_gen(endog, partitions):\n",
    "    \"\"\"partitions endog data\"\"\"\n",
    "\n",
    "    n_endog = endog.shape[0]\n",
    "    n_part = np.ceil(n_endog / partitions)\n",
    "\n",
    "    ii = 0\n",
    "    while ii < n_endog:\n",
    "        jj = int(min(ii + n_part, n_endog))\n",
    "        yield endog[ii:jj]\n",
    "        ii += int(n_part)\n",
    "        \n",
    "def _gen_init(data, init_key, partitions):\n",
    "    \"\"\"partitions init_kwds data\"\"\"\n",
    "\n",
    "    n_data = data.shape[0]\n",
    "    n_part = np.ceil(n_data / partitions)\n",
    "\n",
    "    ii = 0\n",
    "    while ii < n_data:\n",
    "        jj = int(min(ii + n_part, n_data))\n",
    "        yield {init_key : data[ii:jj]}\n",
    "        ii += int(n_part)"
   ]
  },
  {
   "cell_type": "markdown",
   "metadata": {},
   "source": [
    "Now we generate and fit the model"
   ]
  },
  {
   "cell_type": "code",
   "execution_count": null,
   "metadata": {
    "collapsed": false
   },
   "outputs": [],
   "source": [
    "from statsmodels.base.distributed_estimation import _est_regularized_naive, _join_naive\n",
    "from statsmodels.base.distributed_estimation import DistributedModel\n",
    "from statsmodels.duration.hazard_regression import PHReg\n",
    "\n",
    "# number of partitions\n",
    "m = 5\n",
    "\n",
    "debiased_mod = DistributedModel(m, model_class=PHReg)\n",
    "debiased_fit = debiased_mod.fit(zip(_endog_gen(time, m), _exog_gen(exog, m)),\n",
    "                                fit_kwds={\"alpha\": 0.1},\n",
    "                                init_kwds_generator=_gen_init(status, \"status\", m))\n",
    "naive_mod = DistributedModel(m, model_class=PHReg,\n",
    "                             estimation_method=_est_regularized_naive,\n",
    "                             join_method=_join_naive)\n",
    "naive_fit = naive_mod.fit(zip(_endog_gen(time, m), _exog_gen(exog, m)),\n",
    "                          fit_kwds={\"alpha\": 0.1},\n",
    "                          init_kwds_generator=_gen_init(status, \"status\", m))\n",
    "print(np.abs(debiased_fit.params - coef), np.abs(naive_fit.params - coef))"
   ]
  },
  {
   "cell_type": "code",
   "execution_count": null,
   "metadata": {
    "collapsed": true
   },
   "outputs": [],
   "source": []
  }
 ],
 "metadata": {
  "anaconda-cloud": {},
  "kernelspec": {
   "display_name": "Python [default]",
   "language": "python",
   "name": "python3"
  },
  "language_info": {
   "codemirror_mode": {
    "name": "ipython",
    "version": 3
   },
   "file_extension": ".py",
   "mimetype": "text/x-python",
   "name": "python",
   "nbconvert_exporter": "python",
   "pygments_lexer": "ipython3",
   "version": "3.5.2"
  }
 },
 "nbformat": 4,
 "nbformat_minor": 1
}
